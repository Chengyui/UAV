{
 "cells": [
  {
   "cell_type": "code",
   "execution_count": 27,
   "id": "dcd39c95",
   "metadata": {},
   "outputs": [
    {
     "name": "stdout",
     "output_type": "stream",
     "text": [
      "Epoch 1/10\n",
      "28/28 [==============================] - 2s 7ms/step - loss: 0.7072\n",
      "Epoch 2/10\n",
      "28/28 [==============================] - 0s 7ms/step - loss: 0.4254\n",
      "Epoch 3/10\n",
      "28/28 [==============================] - 0s 7ms/step - loss: 0.4215\n",
      "Epoch 4/10\n",
      "28/28 [==============================] - 0s 7ms/step - loss: 0.4198\n",
      "Epoch 5/10\n",
      "28/28 [==============================] - 0s 7ms/step - loss: 0.4191\n",
      "Epoch 6/10\n",
      "28/28 [==============================] - 0s 7ms/step - loss: 0.4187\n",
      "Epoch 7/10\n",
      "28/28 [==============================] - 0s 7ms/step - loss: 0.4186\n",
      "Epoch 8/10\n",
      "28/28 [==============================] - 0s 7ms/step - loss: 0.4185\n",
      "Epoch 9/10\n",
      "28/28 [==============================] - 0s 7ms/step - loss: 0.4184\n",
      "Epoch 10/10\n",
      "28/28 [==============================] - 0s 7ms/step - loss: 0.4184\n"
     ]
    }
   ],
   "source": [
    "import pandas as pd\n",
    "import numpy as np\n",
    "import tensorflow\n",
    "from tensorflow import keras\n",
    "from keras.models import Sequential\n",
    "from keras.layers import Dense, Embedding\n",
    "from keras.layers import LSTM\n",
    "from sklearn.preprocessing import StandardScaler\n",
    "from sklearn.preprocessing import MinMaxScaler\n",
    "\n",
    "import math\n",
    "from sklearn.metrics import mean_squared_error\n",
    "from sklearn.metrics import mean_absolute_error\n",
    "import matplotlib.pyplot as plt\n",
    "\n",
    "\n",
    "# 生成标签值：下一天收盘价（涉及删除最后一条数据，不要重复执行该函数）\n",
    "def generate_label(data_path):\n",
    "    df = pd.read_csv(data_path)\n",
    "    next_close = list()\n",
    "    for i in range(len(df['close']) - 1):\n",
    "        next_close.append(df['close'][i + 1])\n",
    "    next_close.append(0)\n",
    "    df['next_close'] = next_close\n",
    "    df.drop(df.index[-1], inplace=True)\n",
    "    df.to_csv('temp.csv', index=None)\n",
    "\n",
    "\n",
    "# 生成训练和测试数据\n",
    "def generate_model_data(data_path, alpha, seq_len):\n",
    "    df = pd.read_csv(data_path)\n",
    "    train_day = int((len(df['close']) - seq_len + 1))\n",
    "    for property in ['open', 'close', 'high', 'low', 'volume', 'next_close']:\n",
    "        df[property] = scaler.fit_transform(np.reshape(np.array(df[property]), (-1, 1)))\n",
    "    X_data, Y_data = list(), list()\n",
    "    # 生成时序数据\n",
    "    for i in range(train_day):\n",
    "        Y_data.append(df['next_close'][i + seq_len - 1])\n",
    "        for j in range(seq_len):\n",
    "            for m in ['open', 'close', 'high', 'low', 'volume']:\n",
    "                X_data.append(df[m][i + j])\n",
    "    X_data = np.reshape(np.array(X_data), (-1, 5 * seq_len))  # 5表示特征数量*天数\n",
    "    train_length = int(len(Y_data) * alpha)\n",
    "    X_train = np.reshape(np.array(X_data[:train_length]), (len(X_data[:train_length]), seq_len, 5))\n",
    "    X_test = np.reshape(np.array(X_data[train_length:]), (len(X_data[train_length:]), seq_len, 5))\n",
    "    Y_train, Y_test = np.array(Y_data[:train_length]), np.array(Y_data[train_length:])\n",
    "    return X_train, Y_train, X_test, Y_test,X_data\n",
    "\n",
    "\n",
    "def calc_MAPE(real, predict):\n",
    "    Score_MAPE = 0\n",
    "    for i in range(len(predict[:, 0])):\n",
    "        Score_MAPE += abs((predict[:, 0][i] - real[:, 0][i]) / real[:, 0][i])\n",
    "    Score_MAPE = Score_MAPE * 100 / len(predict[:, 0])\n",
    "    return Score_MAPE\n",
    "\n",
    "\n",
    "def calc_AMAPE(real, predict):\n",
    "    Score_AMAPE = 0\n",
    "    Score_MAPE_DIV = sum(real[:, 0]) / len(real[:, 0])\n",
    "    for i in range(len(predict[:, 0])):\n",
    "        Score_AMAPE += abs((predict[:, 0][i] - real[:, 0][i]) / Score_MAPE_DIV)\n",
    "    Score_AMAPE = Score_AMAPE * 100 / len(predict[:, 0])\n",
    "    return Score_AMAPE\n",
    "\n",
    "\n",
    "def evaluate(real, predict):\n",
    "    RMSE = math.sqrt(mean_squared_error(real[:, 0], predict[:, 0]))\n",
    "    MAE = mean_absolute_error(real[:, 0], predict[:, 0])\n",
    "    MAPE = calc_MAPE(real, predict)\n",
    "    AMAPE = calc_AMAPE(real, predict)\n",
    "    return RMSE, MAE, MAPE, AMAPE\n",
    "\n",
    "\n",
    "def lstm_model(X_train, Y_train, X_test, Y_test):\n",
    "    model = Sequential()\n",
    "    model.add(LSTM(units=64, input_shape=(X_train.shape[1], X_train.shape[2])))\n",
    "    model.add(Dense(1, activation='hard_sigmoid'))\n",
    "    model.compile(loss='mean_squared_error', optimizer='adam')\n",
    "    model.fit(X_train, Y_train, epochs=10, batch_size=20, verbose=1)\n",
    "\n",
    "    trainPredict = model.predict(X_train)\n",
    "    trainPredict = scaler.inverse_transform(trainPredict)\n",
    "    Y_train = scaler.inverse_transform(np.reshape(Y_train, (-1, 1)))\n",
    "\n",
    "    testPredict = model.predict(X_test)\n",
    "    testPredict = scaler.inverse_transform(testPredict)\n",
    "    Y_test = scaler.inverse_transform(np.reshape(Y_test, (-1, 1)))\n",
    "\n",
    "    return Y_train, trainPredict, Y_test, testPredict\n",
    "\n",
    "\n",
    "if __name__ == '__main__':\n",
    "    data_path = 'stock.csv'\n",
    "    seq_len = 15\n",
    "    alpha = 0.8\n",
    "    #generate_label(data_path)\n",
    "   # scaler = MinMaxScaler(feature_range=(0, 1))\n",
    "    scaler = StandardScaler()\n",
    "    X_train, Y_train, X_test, Y_test,X_data = generate_model_data('temp.csv', alpha, seq_len)\n",
    "    train_Y, trainPredict, test_Y, testPredict = lstm_model(X_train, Y_train, X_test, Y_test)\n",
    "\n",
    "\n",
    "\n"
   ]
  },
  {
   "cell_type": "code",
   "execution_count": 25,
   "id": "9e454d71",
   "metadata": {},
   "outputs": [
    {
     "data": {
      "text/plain": [
       "array([[[0.13141614, 0.11652187, 0.10498336, 0.14940403, 0.41455648],\n",
       "        [0.1104694 , 0.11512014, 0.08616507, 0.13815772, 0.22170937],\n",
       "        [0.1343337 , 0.15961175, 0.12869413, 0.16344721, 0.50064541],\n",
       "        ...,\n",
       "        [0.15095716, 0.15033522, 0.13053223, 0.17145228, 0.45649694],\n",
       "        [0.14508889, 0.1522064 , 0.11573862, 0.11803069, 0.47613214],\n",
       "        [0.10912997, 0.12856217, 0.09091406, 0.12998928, 0.34725245]],\n",
       "\n",
       "       [[0.1104694 , 0.11512014, 0.08616507, 0.13815772, 0.22170937],\n",
       "        [0.1343337 , 0.15961175, 0.12869413, 0.16344721, 0.50064541],\n",
       "        [0.15639443, 0.14009997, 0.1225512 , 0.15697781, 0.35298189],\n",
       "        ...,\n",
       "        [0.14508889, 0.1522064 , 0.11573862, 0.11803069, 0.47613214],\n",
       "        [0.10912997, 0.12856217, 0.09091406, 0.12998928, 0.34725245],\n",
       "        [0.11595308, 0.08971053, 0.09176136, 0.12512743, 0.16309152]],\n",
       "\n",
       "       [[0.1343337 , 0.15961175, 0.12869413, 0.16344721, 0.50064541],\n",
       "        [0.15639443, 0.14009997, 0.1225512 , 0.15697781, 0.35298189],\n",
       "        [0.13014303, 0.15344944, 0.11594361, 0.15293933, 0.34889876],\n",
       "        ...,\n",
       "        [0.10912997, 0.12856217, 0.09091406, 0.12998928, 0.34725245],\n",
       "        [0.11595308, 0.08971053, 0.09176136, 0.12512743, 0.16309152],\n",
       "        [0.07218969, 0.09310245, 0.05915393, 0.10518337, 0.14884197]],\n",
       "\n",
       "       ...,\n",
       "\n",
       "       [[0.68880917, 0.69202338, 0.67269572, 0.70033589, 0.16297371],\n",
       "        [0.68196617, 0.67135452, 0.67201241, 0.69789842, 0.14145391],\n",
       "        [0.67246421, 0.6523188 , 0.65572919, 0.67807199, 0.07441886],\n",
       "        ...,\n",
       "        [0.57552831, 0.61154309, 0.59100631, 0.60205975, 0.2494364 ],\n",
       "        [0.60229691, 0.5905238 , 0.58946887, 0.60945056, 0.17219505],\n",
       "        [0.59932631, 0.61498129, 0.59689642, 0.62433672, 0.16596441]],\n",
       "\n",
       "       [[0.68196617, 0.67135452, 0.67201241, 0.69789842, 0.14145391],\n",
       "        [0.67246421, 0.6523188 , 0.65572919, 0.67807199, 0.07441886],\n",
       "        [0.64903754, 0.6781119 , 0.65815493, 0.66699558, 0.14509773],\n",
       "        ...,\n",
       "        [0.60229691, 0.5905238 , 0.58946887, 0.60945056, 0.17219505],\n",
       "        [0.59932631, 0.61498129, 0.59689642, 0.62433672, 0.16596441],\n",
       "        [0.61663274, 0.63993467, 0.61886475, 0.6402227 , 0.17669863]],\n",
       "\n",
       "       [[0.67246421, 0.6523188 , 0.65572919, 0.67807199, 0.07441886],\n",
       "        [0.64903754, 0.6781119 , 0.65815493, 0.66699558, 0.14509773],\n",
       "        [0.69238981, 0.69013237, 0.68166071, 0.71384975, 0.24930551],\n",
       "        ...,\n",
       "        [0.59932631, 0.61498129, 0.59689642, 0.62433672, 0.16596441],\n",
       "        [0.61663274, 0.63993467, 0.61886475, 0.6402227 , 0.17669863],\n",
       "        [0.63545763, 0.63466497, 0.62075751, 0.65980736, 0.14771639]]])"
      ]
     },
     "execution_count": 25,
     "metadata": {},
     "output_type": "execute_result"
    }
   ],
   "source": []
  },
  {
   "cell_type": "code",
   "execution_count": 4,
   "id": "02afb55d",
   "metadata": {},
   "outputs": [
    {
     "name": "stdout",
     "output_type": "stream",
     "text": [
      "101.49823301309272 78.49980489979622 2.374533921172568 2.366686349305\n"
     ]
    }
   ],
   "source": [
    "    RMSE, MAE, MAPE, AMAPE = evaluate(test_Y, testPredict)\n",
    "    print(RMSE, MAE, MAPE, AMAPE)\n"
   ]
  },
  {
   "cell_type": "code",
   "execution_count": 28,
   "id": "f15ea031",
   "metadata": {},
   "outputs": [
    {
     "data": {
      "image/png": "[encoded data removed]",
      "text/plain": [
       "<Figure size 432x288 with 2 Axes>"
      ]
     },
     "metadata": {
      "needs_background": "light"
     },
     "output_type": "display_data"
    }
   ],
   "source": [
    "    plt.subplot(121)\n",
    "    plt.plot(list(trainPredict), color='red', label='prediction')\n",
    "    plt.plot(list(train_Y), color='blue', label='real')\n",
    "    plt.legend(loc='upper left')\n",
    "    plt.title('train data')\n",
    "\n",
    "    plt.subplot(122)\n",
    "    plt.plot(list(testPredict), color='red', label='prediction')\n",
    "    plt.plot(list(test_Y), color='blue', label='real')\n",
    "    plt.legend(loc='upper left')\n",
    "    plt.title('test data')\n",
    "    plt.suptitle('units=64,RMSE=58.464,MAE=46.557,MAPE=1.41,AMAPE=1.40,seq_len=30')\n",
    "    plt.show()"
   ]
  },
  {
   "cell_type": "code",
   "execution_count": 30,
   "id": "44d78080",
   "metadata": {},
   "outputs": [
    {
     "data": {
      "text/plain": [
       "((537, 30, 5), (537,), (135, 30, 5), (135,))"
      ]
     },
     "execution_count": 30,
     "metadata": {},
     "output_type": "execute_result"
    }
   ],
   "source": [
    "X_train.shape, Y_train.shape, X_test.shape, Y_test.shape"
   ]
  },
  {
   "cell_type": "code",
   "execution_count": 33,
   "id": "7be60d7d",
   "metadata": {},
   "outputs": [],
   "source": [
    "    df = pd.read_csv('UAV.csv')    \n",
    "    \n",
    "    for i in ['xa','ya','za','row','pitch','yaw']:\n",
    "        next_close = list()\n",
    "        for j in range(len(df[i])-1):\n",
    "            next_close.append(df[i][j+1])\n",
    "        next_close.append(0)\n",
    "        df['new'+i] = next_close\n",
    "    df.to_csv('new_UVA.csv',index=None)"
   ]
  },
  {
   "cell_type": "code",
   "execution_count": 11,
   "id": "a5aa171b",
   "metadata": {},
   "outputs": [
    {
     "data": {
      "text/plain": [
       "(138, 15, 5)"
      ]
     },
     "execution_count": 11,
     "metadata": {},
     "output_type": "execute_result"
    }
   ],
   "source": [
    "X_test.shape"
   ]
  },
  {
   "cell_type": "code",
   "execution_count": 20,
   "id": "fd73d31c",
   "metadata": {},
   "outputs": [
    {
     "ename": "NameError",
     "evalue": "name 'test_X' is not defined",
     "output_type": "error",
     "traceback": [
      "\u001b[1;31m---------------------------------------------------------------------------\u001b[0m",
      "\u001b[1;31mNameError\u001b[0m                                 Traceback (most recent call last)",
      "\u001b[1;32mE:\\Temp/ipykernel_22312/1780560646.py\u001b[0m in \u001b[0;36m<module>\u001b[1;34m\u001b[0m\n\u001b[1;32m----> 1\u001b[1;33m \u001b[0mtest_X\u001b[0m\u001b[1;33m\u001b[0m\u001b[1;33m\u001b[0m\u001b[0m\n\u001b[0m",
      "\u001b[1;31mNameError\u001b[0m: name 'test_X' is not defined"
     ]
    }
   ],
   "source": []
  },
  {
   "cell_type": "code",
   "execution_count": null,
   "id": "c9859222",
   "metadata": {},
   "outputs": [],
   "source": []
  }
 ],
 "metadata": {
  "kernelspec": {
   "display_name": "Python 3 (ipykernel)",
   "language": "python",
   "name": "python3"
  },
  "language_info": {
   "codemirror_mode": {
    "name": "ipython",
    "version": 3
   },
   "file_extension": ".py",
   "mimetype": "text/x-python",
   "name": "python",
   "nbconvert_exporter": "python",
   "pygments_lexer": "ipython3",
   "version": "3.8.3"
  }
 },
 "nbformat": 4,
 "nbformat_minor": 5
}
