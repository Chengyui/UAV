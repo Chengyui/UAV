{
 "cells": [
  {
   "cell_type": "code",
   "execution_count": 1,
   "id": "64f37cbf",
   "metadata": {},
   "outputs": [],
   "source": [
    "import pandas as pd\n",
    "import numpy as np\n",
    "import tensorflow\n",
    "from tensorflow import keras\n",
    "from keras.models import Sequential\n",
    "from keras.layers import Dense, Embedding\n",
    "from keras.layers import LSTM\n",
    "from sklearn.preprocessing import StandardScaler\n",
    "from sklearn.preprocessing import MinMaxScaler\n",
    "\n",
    "import math\n",
    "from sklearn.metrics import mean_squared_error\n",
    "from sklearn.metrics import mean_absolute_error\n",
    "import matplotlib.pyplot as plt\n",
    "\n",
    "\n"
   ]
  },
  {
   "cell_type": "code",
   "execution_count": 2,
   "id": "10832693",
   "metadata": {},
   "outputs": [],
   "source": [
    "# 生成标签值：下一天收盘价（涉及删除最后一条数据，不要重复执行该函数）\n",
    "def generate_label(data_path):\n",
    "    df = pd.read_csv(data_path)\n",
    "\n",
    "    for i in ['xa','ya','za','row','pitch','yaw']:\n",
    "        next_close = list()\n",
    "        for j in range(len(df[i])-1):\n",
    "            next_close.append(df[i][j+1])\n",
    "        next_close.append(0)\n",
    "        df['new'+i] = next_close\n",
    "    df.to_csv('new_UAV.csv',index=None)\n",
    "\n",
    "# 生成训练和测试数据\n",
    "def generate_model_data(data_path, alpha, seq_len):\n",
    "    Mean = dict()\n",
    "    Std = dict()\n",
    "    data_path = 'new_UAV.csv'\n",
    "    df = pd.read_csv(data_path)\n",
    "    train_seq = int((len(df) - seq_len + 1))\n",
    "    cnt = 0\n",
    "    for property in ['xa','ya','za','row','pitch','yaw','newxa','newya','newza','newrow','newpitch','newyaw']:\n",
    "        df[property] = np.reshape(np.array(df[property]), (-1, 1))\n",
    "        Mean[cnt] = df[property].mean() \n",
    "        Std[cnt] = df[property].std()\n",
    "        df[property] = (df[property]-Mean[cnt])/Std[cnt]\n",
    "        cnt = cnt+1\n",
    "\n",
    "    X_data, Y_data = list(), list()\n",
    "    # 生成时序数据\n",
    "    for i in range(train_seq):\n",
    "        for k in ['newxa','newya','newza','newrow','newpitch','newyaw']:\n",
    "            Y_data.append(df[k][i + seq_len - 1])\n",
    "        for j in range(seq_len):\n",
    "            for m in ['xa','ya','za','row','pitch','yaw']:\n",
    "                X_data.append(df[m][i + j])\n",
    "    X_data = np.reshape(np.array(X_data), (-1, 6 * seq_len))  # 表示特征数量*时间步数\n",
    "    Y_data = np.reshape(np.array(Y_data),(-1,6))\n",
    "    train_length = int(len(Y_data) * alpha)\n",
    "    X_train = np.reshape(np.array(X_data[:train_length]), (len(X_data[:train_length]), seq_len, 6))\n",
    "    X_test = np.reshape(np.array(X_data[train_length:]), (len(X_data[train_length:]), seq_len, 6))\n",
    "    #Y_train, Y_test = np.array(Y_data[:train_length]), np.array(Y_data[train_length:])\n",
    " \n",
    "    Y_train = np.reshape(np.array(Y_data[:train_length]),(len(Y_data[:train_length]),6))\n",
    "    Y_test = np.reshape(np.array(Y_data[train_length:]), (len(Y_data[train_length:]),6))\n",
    "    return X_train, Y_train, X_test, Y_test,train_length,X_data,Y_data,Mean,Std\n",
    "\n",
    "\n",
    "def calc_MAPE(real, predict):\n",
    "    Score_MAPE = 0\n",
    "    for k in range(0,6):\n",
    "        for i in range(len(predict[:, k])):\n",
    "            Score_MAPE += abs((predict[:, k][i] - real[:, k][i]) / real[:, k][i])\n",
    "    Score_MAPE = Score_MAPE * 100 / len(np.reshape(predict,(-1,1)))\n",
    "    return Score_MAPE\n",
    "\n",
    "\n",
    "def calc_AMAPE(real, predict):\n",
    "    Score_AMAPE = 0\n",
    "    for k in range(0,6):\n",
    "        Score_MAPE_DIV = sum(real[:, k]) / len(real[:, k])\n",
    "        for i in range(len(predict[:, k])):\n",
    "            Score_AMAPE += abs((predict[:, k][i] - real[:, k][i]) / Score_MAPE_DIV)\n",
    "    Score_AMAPE = Score_AMAPE * 100 / len(np.reshape(predict[:, 0],(-1,1)))\n",
    "    return Score_AMAPE\n",
    "\n",
    "\n",
    "def evaluate(real, predict):\n",
    "    RMSE = math.sqrt(mean_squared_error(real[:, 0], predict[:, 0]))\n",
    "    MAE = mean_absolute_error(real[:, 0], predict[:, 0])\n",
    "    MAPE = calc_MAPE(real, predict)\n",
    "    AMAPE = calc_AMAPE(real, predict)\n",
    "    return RMSE, MAE, MAPE, AMAPE\n",
    "\n",
    "\n",
    "\n",
    "\n",
    "\n",
    "if __name__ == '__main__':\n",
    "    data_path = 'UAV.csv'\n",
    "    seq_len = 50\n",
    "    alpha = 0.8\n",
    "    #generate_label(data_path)\n",
    "    #scaler = MinMaxScaler(feature_range=(0, 1))\n",
    "    scaler = StandardScaler()\n",
    "    X_train, Y_train, X_test, Y_test,train_length,X_data,Y_data,Mean,Std= generate_model_data('new_UAV.csv', alpha, seq_len)\n",
    "    "
   ]
  },
  {
   "cell_type": "code",
   "execution_count": 11,
   "id": "8e216456",
   "metadata": {},
   "outputs": [
    {
     "data": {
      "text/plain": [
       "(array([[-0.00996112, -0.00297873,  0.01940731,  0.024895  ,  0.00967262,\n",
       "          0.02131811],\n",
       "        [-0.01957042,  0.0078191 ,  0.02185736,  0.0195496 ,  0.00962354,\n",
       "          0.00505356],\n",
       "        [-0.03094428,  0.02222753,  0.01361359,  0.01692522,  0.00764564,\n",
       "         -0.01258014],\n",
       "        [-0.0447032 ,  0.04059991, -0.00292379,  0.01057836,  0.00434896,\n",
       "         -0.04431463],\n",
       "        [-0.04386371,  0.04490146, -0.00363271,  0.00553301,  0.0010279 ,\n",
       "         -0.05059553],\n",
       "        [-0.02672855,  0.03365451,  0.01090255,  0.00397861, -0.00266349,\n",
       "         -0.02589549],\n",
       "        [-0.00180108,  0.01578631,  0.03092809, -0.00177409, -0.00694702,\n",
       "          0.00057457],\n",
       "        [ 0.03575077, -0.01367375,  0.06198905, -0.01015383, -0.01165137,\n",
       "          0.03947901],\n",
       "        [ 0.05112276, -0.02671025,  0.06372528, -0.01008997, -0.0135181 ,\n",
       "          0.0551373 ],\n",
       "        [ 0.04117918, -0.02083619,  0.03237989, -0.00160479, -0.01219228,\n",
       "          0.04201271],\n",
       "        [ 0.02682009, -0.01383594, -0.00833919,  0.01124827, -0.00909738,\n",
       "          0.02587283],\n",
       "        [-0.00114015,  0.00151461, -0.06920982,  0.03121948, -0.00325486,\n",
       "         -0.00331406],\n",
       "        [-0.01371893,  0.00815722, -0.09034122,  0.03625695, -0.00066055,\n",
       "         -0.01935873],\n",
       "        [-0.00744874,  0.00357792, -0.06523288,  0.02452046, -0.00175679,\n",
       "         -0.01830771],\n",
       "        [-0.00400051,  0.001954  , -0.03153941,  0.00887949, -0.002759  ,\n",
       "         -0.02125617],\n",
       "        [ 0.00408668, -0.00114561,  0.02688848, -0.01645506, -0.00516814,\n",
       "         -0.02122991],\n",
       "        [ 0.00521946, -0.00348427,  0.05175892, -0.02788829, -0.0050567 ,\n",
       "         -0.02743902],\n",
       "        [-0.00346456, -0.00349451,  0.03601037, -0.02276497, -0.00183434,\n",
       "         -0.04259419],\n",
       "        [-0.01043487, -0.005753  ,  0.02122885, -0.01725075,  0.00140061,\n",
       "         -0.0566621 ],\n",
       "        [-0.0190486 , -0.00941276, -0.00795429, -0.00513758,  0.00569948,\n",
       "         -0.07242079],\n",
       "        [-0.01887078, -0.01235264, -0.02359462,  0.00194978,  0.00761544,\n",
       "         -0.09304514],\n",
       "        [-0.00763664, -0.01508396, -0.02023118,  0.00193932,  0.00655065,\n",
       "         -0.11775435],\n",
       "        [ 0.00703294, -0.01798219, -0.02392837,  0.00556893,  0.00499012,\n",
       "         -0.14732963],\n",
       "        [ 0.02842022, -0.02074314, -0.02711645,  0.00978421,  0.00192938,\n",
       "         -0.18242516],\n",
       "        [ 0.03306463, -0.01563546, -0.0295716 ,  0.00987428,  0.00044469,\n",
       "         -0.17492081],\n",
       "        [ 0.01838807, -0.00181881, -0.03401951,  0.0065314 ,  0.00094993,\n",
       "         -0.12041999],\n",
       "        [-0.00154852,  0.01729172, -0.03457329, -0.00040451,  0.00109923,\n",
       "         -0.04212377],\n",
       "        [-0.03320342,  0.04400832, -0.0317705 , -0.01201813,  0.00170456,\n",
       "          0.07356618],\n",
       "        [-0.04159036,  0.04958978, -0.01961819, -0.01577987,  0.00102369,\n",
       "          0.11528682],\n",
       "        [-0.02296271,  0.03147637,  0.00372119, -0.01103178, -0.00129917,\n",
       "          0.07301985],\n",
       "        [ 0.00045597,  0.00541555,  0.03515084, -0.00475998, -0.0037759 ,\n",
       "          0.01188456],\n",
       "        [ 0.03803983, -0.03639397,  0.07705772,  0.00615929, -0.006908  ,\n",
       "         -0.09776804],\n",
       "        [ 0.04995807, -0.05010357,  0.09032062,  0.01149824, -0.00699671,\n",
       "         -0.13278864],\n",
       "        [ 0.03139065, -0.03134605,  0.07148924,  0.01005472, -0.00354592,\n",
       "         -0.07959064],\n",
       "        [ 0.00922218, -0.00777824,  0.04147894,  0.00931281,  0.00128625,\n",
       "         -0.02226725],\n",
       "        [-0.02727979,  0.03219488, -0.01039817,  0.00662961,  0.00857589,\n",
       "          0.07148309],\n",
       "        [-0.0429567 ,  0.04810584, -0.03569793,  0.0025484 ,  0.01033093,\n",
       "          0.0949939 ],\n",
       "        [-0.03298494,  0.03483894, -0.02981659, -0.00233649,  0.00575942,\n",
       "          0.03272551],\n",
       "        [-0.02316021,  0.02146159, -0.02529084, -0.01046611, -0.00038652,\n",
       "         -0.03790582],\n",
       "        [-0.00401006, -0.0027792 , -0.00973572, -0.02172179, -0.01026356,\n",
       "         -0.1462535 ],\n",
       "        [ 0.00836049, -0.01690441, -0.00233151, -0.02208021, -0.01337547,\n",
       "         -0.18902588],\n",
       "        [ 0.01067628, -0.01696251, -0.00691136, -0.0106882 , -0.00857422,\n",
       "         -0.15131356],\n",
       "        [ 0.01854428, -0.02189378, -0.00409775,  0.00580332, -0.00270547,\n",
       "         -0.10689645],\n",
       "        [ 0.02761748, -0.02599918,  0.00110282,  0.03113865,  0.00702838,\n",
       "         -0.02721814],\n",
       "        [ 0.02906421, -0.02256721,  0.00523074,  0.03986362,  0.01151103,\n",
       "          0.01375769],\n",
       "        [ 0.02372695, -0.01279212,  0.01033814,  0.02966579,  0.00953069,\n",
       "          0.00467774],\n",
       "        [ 0.01235672,  0.00476596,  0.01433838,  0.01593711,  0.00779131,\n",
       "          0.00509808],\n",
       "        [-0.00716802,  0.03172042,  0.01698555, -0.0080306 ,  0.00386125,\n",
       "         -0.00477688],\n",
       "        [-0.01997646,  0.04218084,  0.01680518, -0.01476678,  0.00058331,\n",
       "         -0.02186428],\n",
       "        [-0.0254983 ,  0.03475173,  0.01301385, -0.00105507, -0.00131045,\n",
       "         -0.04093961]]),\n",
       " array([-0.00996112, -0.00297873,  0.01940731,  0.024895  ,  0.00967262,\n",
       "         0.02131811]))"
      ]
     },
     "execution_count": 11,
     "metadata": {},
     "output_type": "execute_result"
    }
   ],
   "source": [
    "X_train[1050],Y_train[1000]"
   ]
  },
  {
   "cell_type": "code",
   "execution_count": 3,
   "id": "275ac2e5",
   "metadata": {},
   "outputs": [],
   "source": [
    "def lstm_model(X_train, Y_train, X_test, Y_test):\n",
    "    model = Sequential()\n",
    "    model.add(LSTM(units=128, input_shape=(X_train.shape[1], X_train.shape[2])))\n",
    "    model.add(Dense(6, activation='hard_sigmoid'))\n",
    "    model.compile(loss='mean_squared_error', optimizer='adam')\n",
    "    history = model.fit(X_train, Y_train, epochs=1000, batch_size=100, verbose=1)\n",
    "\n",
    "    trainPredict = model.predict(X_train)\n",
    "    testPredict = model.predict(X_test)\n",
    "    ## 恢复原数值\n",
    "    for i in range(6,12):\n",
    "        trainPredict[:,i-6] = trainPredict[:,i-6]*Std[i]+Mean[i] \n",
    "        Y_train = np.reshape(Y_train, (-1, 6))\n",
    "        Y_train[:,i-6] = Y_train[:,i-6]*Std[i]+Mean[i] \n",
    "        testPredict[:,i-6] = testPredict[:,i-6]*Std[i]+Mean[i] \n",
    "        Y_test = np.reshape(Y_test, (-1, 6))\n",
    "        Y_test[:,i-6] = Y_test[:,i-6]*Std[i]+Mean[i] \n",
    "\n",
    "    return Y_train, trainPredict, Y_test, testPredict,history\n"
   ]
  },
  {
   "cell_type": "code",
   "execution_count": 6,
   "id": "0d001961",
   "metadata": {},
   "outputs": [
    {
     "name": "stdout",
     "output_type": "stream",
     "text": [
      "Epoch 1/1000\n",
      "154/154 [==============================] - 8s 38ms/step - loss: 0.6545\n",
      "Epoch 2/1000\n",
      "154/154 [==============================] - 6s 38ms/step - loss: 0.5857\n",
      "Epoch 3/1000\n",
      "154/154 [==============================] - 6s 38ms/step - loss: 0.5665\n",
      "Epoch 4/1000\n",
      "154/154 [==============================] - 6s 38ms/step - loss: 0.5544\n",
      "Epoch 5/1000\n",
      "154/154 [==============================] - 6s 39ms/step - loss: 0.5474\n",
      "Epoch 6/1000\n",
      "154/154 [==============================] - 6s 39ms/step - loss: 0.5437\n",
      "Epoch 7/1000\n",
      "154/154 [==============================] - 6s 40ms/step - loss: 0.5414\n",
      "Epoch 8/1000\n",
      " 98/154 [==================>...........] - ETA: 2s - loss: 0.5377"
     ]
    },
    {
     "ename": "KeyboardInterrupt",
     "evalue": "",
     "output_type": "error",
     "traceback": [
      "\u001b[1;31m---------------------------------------------------------------------------\u001b[0m",
      "\u001b[1;31mKeyboardInterrupt\u001b[0m                         Traceback (most recent call last)",
      "\u001b[1;32mE:\\Temp/ipykernel_19204/1418916286.py\u001b[0m in \u001b[0;36m<module>\u001b[1;34m\u001b[0m\n\u001b[1;32m----> 1\u001b[1;33m \u001b[0mtrain_Y\u001b[0m\u001b[1;33m,\u001b[0m \u001b[0mtrainPredict\u001b[0m\u001b[1;33m,\u001b[0m \u001b[0mtest_Y\u001b[0m\u001b[1;33m,\u001b[0m \u001b[0mtestPredict\u001b[0m\u001b[1;33m,\u001b[0m\u001b[0mhistory\u001b[0m \u001b[1;33m=\u001b[0m \u001b[0mlstm_model\u001b[0m\u001b[1;33m(\u001b[0m\u001b[0mX_train\u001b[0m\u001b[1;33m,\u001b[0m \u001b[0mY_train\u001b[0m\u001b[1;33m,\u001b[0m \u001b[0mX_test\u001b[0m\u001b[1;33m,\u001b[0m \u001b[0mY_test\u001b[0m\u001b[1;33m)\u001b[0m\u001b[1;33m\u001b[0m\u001b[1;33m\u001b[0m\u001b[0m\n\u001b[0m",
      "\u001b[1;32mE:\\Temp/ipykernel_19204/2159154072.py\u001b[0m in \u001b[0;36mlstm_model\u001b[1;34m(X_train, Y_train, X_test, Y_test)\u001b[0m\n\u001b[0;32m      4\u001b[0m     \u001b[0mmodel\u001b[0m\u001b[1;33m.\u001b[0m\u001b[0madd\u001b[0m\u001b[1;33m(\u001b[0m\u001b[0mDense\u001b[0m\u001b[1;33m(\u001b[0m\u001b[1;36m6\u001b[0m\u001b[1;33m,\u001b[0m \u001b[0mactivation\u001b[0m\u001b[1;33m=\u001b[0m\u001b[1;34m'hard_sigmoid'\u001b[0m\u001b[1;33m)\u001b[0m\u001b[1;33m)\u001b[0m\u001b[1;33m\u001b[0m\u001b[1;33m\u001b[0m\u001b[0m\n\u001b[0;32m      5\u001b[0m     \u001b[0mmodel\u001b[0m\u001b[1;33m.\u001b[0m\u001b[0mcompile\u001b[0m\u001b[1;33m(\u001b[0m\u001b[0mloss\u001b[0m\u001b[1;33m=\u001b[0m\u001b[1;34m'mean_squared_error'\u001b[0m\u001b[1;33m,\u001b[0m \u001b[0moptimizer\u001b[0m\u001b[1;33m=\u001b[0m\u001b[1;34m'adam'\u001b[0m\u001b[1;33m)\u001b[0m\u001b[1;33m\u001b[0m\u001b[1;33m\u001b[0m\u001b[0m\n\u001b[1;32m----> 6\u001b[1;33m     \u001b[0mhistory\u001b[0m \u001b[1;33m=\u001b[0m \u001b[0mmodel\u001b[0m\u001b[1;33m.\u001b[0m\u001b[0mfit\u001b[0m\u001b[1;33m(\u001b[0m\u001b[0mX_train\u001b[0m\u001b[1;33m,\u001b[0m \u001b[0mY_train\u001b[0m\u001b[1;33m,\u001b[0m \u001b[0mepochs\u001b[0m\u001b[1;33m=\u001b[0m\u001b[1;36m1000\u001b[0m\u001b[1;33m,\u001b[0m \u001b[0mbatch_size\u001b[0m\u001b[1;33m=\u001b[0m\u001b[1;36m100\u001b[0m\u001b[1;33m,\u001b[0m \u001b[0mverbose\u001b[0m\u001b[1;33m=\u001b[0m\u001b[1;36m1\u001b[0m\u001b[1;33m)\u001b[0m\u001b[1;33m\u001b[0m\u001b[1;33m\u001b[0m\u001b[0m\n\u001b[0m\u001b[0;32m      7\u001b[0m \u001b[1;33m\u001b[0m\u001b[0m\n\u001b[0;32m      8\u001b[0m     \u001b[0mtrainPredict\u001b[0m \u001b[1;33m=\u001b[0m \u001b[0mmodel\u001b[0m\u001b[1;33m.\u001b[0m\u001b[0mpredict\u001b[0m\u001b[1;33m(\u001b[0m\u001b[0mX_train\u001b[0m\u001b[1;33m)\u001b[0m\u001b[1;33m\u001b[0m\u001b[1;33m\u001b[0m\u001b[0m\n",
      "\u001b[1;32m~\\.conda\\envs\\env\\lib\\site-packages\\keras\\engine\\training.py\u001b[0m in \u001b[0;36mfit\u001b[1;34m(self, x, y, batch_size, epochs, verbose, callbacks, validation_split, validation_data, shuffle, class_weight, sample_weight, initial_epoch, steps_per_epoch, validation_steps, validation_batch_size, validation_freq, max_queue_size, workers, use_multiprocessing)\u001b[0m\n\u001b[0;32m   1182\u001b[0m                 _r=1):\n\u001b[0;32m   1183\u001b[0m               \u001b[0mcallbacks\u001b[0m\u001b[1;33m.\u001b[0m\u001b[0mon_train_batch_begin\u001b[0m\u001b[1;33m(\u001b[0m\u001b[0mstep\u001b[0m\u001b[1;33m)\u001b[0m\u001b[1;33m\u001b[0m\u001b[1;33m\u001b[0m\u001b[0m\n\u001b[1;32m-> 1184\u001b[1;33m               \u001b[0mtmp_logs\u001b[0m \u001b[1;33m=\u001b[0m \u001b[0mself\u001b[0m\u001b[1;33m.\u001b[0m\u001b[0mtrain_function\u001b[0m\u001b[1;33m(\u001b[0m\u001b[0miterator\u001b[0m\u001b[1;33m)\u001b[0m\u001b[1;33m\u001b[0m\u001b[1;33m\u001b[0m\u001b[0m\n\u001b[0m\u001b[0;32m   1185\u001b[0m               \u001b[1;32mif\u001b[0m \u001b[0mdata_handler\u001b[0m\u001b[1;33m.\u001b[0m\u001b[0mshould_sync\u001b[0m\u001b[1;33m:\u001b[0m\u001b[1;33m\u001b[0m\u001b[1;33m\u001b[0m\u001b[0m\n\u001b[0;32m   1186\u001b[0m                 \u001b[0mcontext\u001b[0m\u001b[1;33m.\u001b[0m\u001b[0masync_wait\u001b[0m\u001b[1;33m(\u001b[0m\u001b[1;33m)\u001b[0m\u001b[1;33m\u001b[0m\u001b[1;33m\u001b[0m\u001b[0m\n",
      "\u001b[1;32m~\\.conda\\envs\\env\\lib\\site-packages\\tensorflow\\python\\eager\\def_function.py\u001b[0m in \u001b[0;36m__call__\u001b[1;34m(self, *args, **kwds)\u001b[0m\n\u001b[0;32m    883\u001b[0m \u001b[1;33m\u001b[0m\u001b[0m\n\u001b[0;32m    884\u001b[0m       \u001b[1;32mwith\u001b[0m \u001b[0mOptionalXlaContext\u001b[0m\u001b[1;33m(\u001b[0m\u001b[0mself\u001b[0m\u001b[1;33m.\u001b[0m\u001b[0m_jit_compile\u001b[0m\u001b[1;33m)\u001b[0m\u001b[1;33m:\u001b[0m\u001b[1;33m\u001b[0m\u001b[1;33m\u001b[0m\u001b[0m\n\u001b[1;32m--> 885\u001b[1;33m         \u001b[0mresult\u001b[0m \u001b[1;33m=\u001b[0m \u001b[0mself\u001b[0m\u001b[1;33m.\u001b[0m\u001b[0m_call\u001b[0m\u001b[1;33m(\u001b[0m\u001b[1;33m*\u001b[0m\u001b[0margs\u001b[0m\u001b[1;33m,\u001b[0m \u001b[1;33m**\u001b[0m\u001b[0mkwds\u001b[0m\u001b[1;33m)\u001b[0m\u001b[1;33m\u001b[0m\u001b[1;33m\u001b[0m\u001b[0m\n\u001b[0m\u001b[0;32m    886\u001b[0m \u001b[1;33m\u001b[0m\u001b[0m\n\u001b[0;32m    887\u001b[0m       \u001b[0mnew_tracing_count\u001b[0m \u001b[1;33m=\u001b[0m \u001b[0mself\u001b[0m\u001b[1;33m.\u001b[0m\u001b[0mexperimental_get_tracing_count\u001b[0m\u001b[1;33m(\u001b[0m\u001b[1;33m)\u001b[0m\u001b[1;33m\u001b[0m\u001b[1;33m\u001b[0m\u001b[0m\n",
      "\u001b[1;32m~\\.conda\\envs\\env\\lib\\site-packages\\tensorflow\\python\\eager\\def_function.py\u001b[0m in \u001b[0;36m_call\u001b[1;34m(self, *args, **kwds)\u001b[0m\n\u001b[0;32m    915\u001b[0m       \u001b[1;31m# In this case we have created variables on the first call, so we run the\u001b[0m\u001b[1;33m\u001b[0m\u001b[1;33m\u001b[0m\u001b[1;33m\u001b[0m\u001b[0m\n\u001b[0;32m    916\u001b[0m       \u001b[1;31m# defunned version which is guaranteed to never create variables.\u001b[0m\u001b[1;33m\u001b[0m\u001b[1;33m\u001b[0m\u001b[1;33m\u001b[0m\u001b[0m\n\u001b[1;32m--> 917\u001b[1;33m       \u001b[1;32mreturn\u001b[0m \u001b[0mself\u001b[0m\u001b[1;33m.\u001b[0m\u001b[0m_stateless_fn\u001b[0m\u001b[1;33m(\u001b[0m\u001b[1;33m*\u001b[0m\u001b[0margs\u001b[0m\u001b[1;33m,\u001b[0m \u001b[1;33m**\u001b[0m\u001b[0mkwds\u001b[0m\u001b[1;33m)\u001b[0m  \u001b[1;31m# pylint: disable=not-callable\u001b[0m\u001b[1;33m\u001b[0m\u001b[1;33m\u001b[0m\u001b[0m\n\u001b[0m\u001b[0;32m    918\u001b[0m     \u001b[1;32melif\u001b[0m \u001b[0mself\u001b[0m\u001b[1;33m.\u001b[0m\u001b[0m_stateful_fn\u001b[0m \u001b[1;32mis\u001b[0m \u001b[1;32mnot\u001b[0m \u001b[1;32mNone\u001b[0m\u001b[1;33m:\u001b[0m\u001b[1;33m\u001b[0m\u001b[1;33m\u001b[0m\u001b[0m\n\u001b[0;32m    919\u001b[0m       \u001b[1;31m# Release the lock early so that multiple threads can perform the call\u001b[0m\u001b[1;33m\u001b[0m\u001b[1;33m\u001b[0m\u001b[1;33m\u001b[0m\u001b[0m\n",
      "\u001b[1;32m~\\.conda\\envs\\env\\lib\\site-packages\\tensorflow\\python\\eager\\function.py\u001b[0m in \u001b[0;36m__call__\u001b[1;34m(self, *args, **kwargs)\u001b[0m\n\u001b[0;32m   3037\u001b[0m       (graph_function,\n\u001b[0;32m   3038\u001b[0m        filtered_flat_args) = self._maybe_define_function(args, kwargs)\n\u001b[1;32m-> 3039\u001b[1;33m     return graph_function._call_flat(\n\u001b[0m\u001b[0;32m   3040\u001b[0m         filtered_flat_args, captured_inputs=graph_function.captured_inputs)  # pylint: disable=protected-access\n\u001b[0;32m   3041\u001b[0m \u001b[1;33m\u001b[0m\u001b[0m\n",
      "\u001b[1;32m~\\.conda\\envs\\env\\lib\\site-packages\\tensorflow\\python\\eager\\function.py\u001b[0m in \u001b[0;36m_call_flat\u001b[1;34m(self, args, captured_inputs, cancellation_manager)\u001b[0m\n\u001b[0;32m   1961\u001b[0m         and executing_eagerly):\n\u001b[0;32m   1962\u001b[0m       \u001b[1;31m# No tape is watching; skip to running the function.\u001b[0m\u001b[1;33m\u001b[0m\u001b[1;33m\u001b[0m\u001b[1;33m\u001b[0m\u001b[0m\n\u001b[1;32m-> 1963\u001b[1;33m       return self._build_call_outputs(self._inference_function.call(\n\u001b[0m\u001b[0;32m   1964\u001b[0m           ctx, args, cancellation_manager=cancellation_manager))\n\u001b[0;32m   1965\u001b[0m     forward_backward = self._select_forward_and_backward_functions(\n",
      "\u001b[1;32m~\\.conda\\envs\\env\\lib\\site-packages\\tensorflow\\python\\eager\\function.py\u001b[0m in \u001b[0;36mcall\u001b[1;34m(self, ctx, args, cancellation_manager)\u001b[0m\n\u001b[0;32m    589\u001b[0m       \u001b[1;32mwith\u001b[0m \u001b[0m_InterpolateFunctionError\u001b[0m\u001b[1;33m(\u001b[0m\u001b[0mself\u001b[0m\u001b[1;33m)\u001b[0m\u001b[1;33m:\u001b[0m\u001b[1;33m\u001b[0m\u001b[1;33m\u001b[0m\u001b[0m\n\u001b[0;32m    590\u001b[0m         \u001b[1;32mif\u001b[0m \u001b[0mcancellation_manager\u001b[0m \u001b[1;32mis\u001b[0m \u001b[1;32mNone\u001b[0m\u001b[1;33m:\u001b[0m\u001b[1;33m\u001b[0m\u001b[1;33m\u001b[0m\u001b[0m\n\u001b[1;32m--> 591\u001b[1;33m           outputs = execute.execute(\n\u001b[0m\u001b[0;32m    592\u001b[0m               \u001b[0mstr\u001b[0m\u001b[1;33m(\u001b[0m\u001b[0mself\u001b[0m\u001b[1;33m.\u001b[0m\u001b[0msignature\u001b[0m\u001b[1;33m.\u001b[0m\u001b[0mname\u001b[0m\u001b[1;33m)\u001b[0m\u001b[1;33m,\u001b[0m\u001b[1;33m\u001b[0m\u001b[1;33m\u001b[0m\u001b[0m\n\u001b[0;32m    593\u001b[0m               \u001b[0mnum_outputs\u001b[0m\u001b[1;33m=\u001b[0m\u001b[0mself\u001b[0m\u001b[1;33m.\u001b[0m\u001b[0m_num_outputs\u001b[0m\u001b[1;33m,\u001b[0m\u001b[1;33m\u001b[0m\u001b[1;33m\u001b[0m\u001b[0m\n",
      "\u001b[1;32m~\\.conda\\envs\\env\\lib\\site-packages\\tensorflow\\python\\eager\\execute.py\u001b[0m in \u001b[0;36mquick_execute\u001b[1;34m(op_name, num_outputs, inputs, attrs, ctx, name)\u001b[0m\n\u001b[0;32m     57\u001b[0m   \u001b[1;32mtry\u001b[0m\u001b[1;33m:\u001b[0m\u001b[1;33m\u001b[0m\u001b[1;33m\u001b[0m\u001b[0m\n\u001b[0;32m     58\u001b[0m     \u001b[0mctx\u001b[0m\u001b[1;33m.\u001b[0m\u001b[0mensure_initialized\u001b[0m\u001b[1;33m(\u001b[0m\u001b[1;33m)\u001b[0m\u001b[1;33m\u001b[0m\u001b[1;33m\u001b[0m\u001b[0m\n\u001b[1;32m---> 59\u001b[1;33m     tensors = pywrap_tfe.TFE_Py_Execute(ctx._handle, device_name, op_name,\n\u001b[0m\u001b[0;32m     60\u001b[0m                                         inputs, attrs, num_outputs)\n\u001b[0;32m     61\u001b[0m   \u001b[1;32mexcept\u001b[0m \u001b[0mcore\u001b[0m\u001b[1;33m.\u001b[0m\u001b[0m_NotOkStatusException\u001b[0m \u001b[1;32mas\u001b[0m \u001b[0me\u001b[0m\u001b[1;33m:\u001b[0m\u001b[1;33m\u001b[0m\u001b[1;33m\u001b[0m\u001b[0m\n",
      "\u001b[1;31mKeyboardInterrupt\u001b[0m: "
     ]
    }
   ],
   "source": [
    "train_Y, trainPredict, test_Y, testPredict,history = lstm_model(X_train, Y_train, X_test, Y_test)"
   ]
  },
  {
   "cell_type": "code",
   "execution_count": 40,
   "id": "53e6bb16",
   "metadata": {},
   "outputs": [
    {
     "data": {
      "image/png": "[encoded data removed]",
      "text/plain": [
       "<Figure size 432x288 with 1 Axes>"
      ]
     },
     "metadata": {
      "needs_background": "light"
     },
     "output_type": "display_data"
    }
   ],
   "source": [
    "\n",
    "\n",
    "loss = history.history['loss']\n",
    "epochs = range(1, len(loss) + 1)\n",
    " \n",
    "plt.title('Accuracy and Loss')\n",
    "\n",
    "plt.plot(epochs, loss, 'blue', label='Validation loss')\n",
    "plt.legend()\n",
    "plt.show()"
   ]
  },
  {
   "cell_type": "code",
   "execution_count": 78,
   "id": "dc4d75db",
   "metadata": {},
   "outputs": [
    {
     "data": {
      "text/plain": [
       "(3801, 6)"
      ]
     },
     "execution_count": 78,
     "metadata": {},
     "output_type": "execute_result"
    }
   ],
   "source": [
    "testPredict.shape"
   ]
  },
  {
   "cell_type": "code",
   "execution_count": 79,
   "id": "0c42c372",
   "metadata": {},
   "outputs": [
    {
     "data": {
      "text/plain": [
       "array([-9.4279333e-12, -1.0288640e-13,  2.0613359e-01,  2.5895984e+00,\n",
       "       -2.3267719e-04, -1.4744103e-03], dtype=float32)"
      ]
     },
     "execution_count": 79,
     "metadata": {},
     "output_type": "execute_result"
    }
   ],
   "source": [
    "testPredict[2000]"
   ]
  },
  {
   "cell_type": "code",
   "execution_count": 41,
   "id": "7a4fe8f6",
   "metadata": {},
   "outputs": [
    {
     "name": "stdout",
     "output_type": "stream",
     "text": [
      "21.674785005288044 2.6152200933478156 inf 3578196.7307087453\n"
     ]
    },
    {
     "name": "stderr",
     "output_type": "stream",
     "text": [
      "E:\\Temp/ipykernel_25212/2821199893.py:52: RuntimeWarning: divide by zero encountered in double_scalars\n",
      "  Score_MAPE += abs((predict[:, k][i] - real[:, k][i]) / real[:, k][i])\n"
     ]
    }
   ],
   "source": [
    "RMSE, MAE, MAPE, AMAPE = evaluate(test_Y, testPredict)\n",
    "print(RMSE, MAE, MAPE, AMAPE)\n"
   ]
  },
  {
   "cell_type": "code",
   "execution_count": 85,
   "id": "96587177",
   "metadata": {},
   "outputs": [],
   "source": [
    "np.savetxt('trainPredict.csv', trainPredict, delimiter=',')\n",
    "np.savetxt('testPredict.csv',testPredict,delimiter=',')"
   ]
  },
  {
   "cell_type": "code",
   "execution_count": 21,
   "id": "60e9a9ec",
   "metadata": {},
   "outputs": [
    {
     "data": {
      "text/plain": [
       "((15203,), (15203, 6))"
      ]
     },
     "execution_count": 21,
     "metadata": {},
     "output_type": "execute_result"
    }
   ],
   "source": [
    "trainPredict[:,1].shape,train_Y.shape"
   ]
  },
  {
   "cell_type": "code",
   "execution_count": 42,
   "id": "00434b06",
   "metadata": {},
   "outputs": [
    {
     "data": {
      "image/png": "[encoded data removed]",
      "text/plain": [
       "<Figure size 432x288 with 1 Axes>"
      ]
     },
     "metadata": {
      "needs_background": "light"
     },
     "output_type": "display_data"
    },
    {
     "data": {
      "image/png": "[encoded data removed]",
      "text/plain": [
       "<Figure size 432x288 with 1 Axes>"
      ]
     },
     "metadata": {
      "needs_background": "light"
     },
     "output_type": "display_data"
    }
   ],
   "source": [
    "i=3\n",
    "plt.plot(list(trainPredict[:,i]), color='red', label='prediction')\n",
    "plt.plot(list(train_Y[:,i]), color='blue', label='real')\n",
    "plt.legend(loc='upper left')\n",
    "plt.title('train data')\n",
    "plt.show()\n",
    "\n",
    "plt.plot(list(testPredict[:,i]), color='red', label='prediction')\n",
    "plt.plot(list(test_Y[:,i]), color='blue', label='real')\n",
    "plt.legend(loc='upper left')\n",
    "plt.title('test data')\n",
    "#plt.suptitle('units==20,RMSE=\\d,MAE=\\d,MAPE=\\d,AMAPE=\\d',RMSE,MAE,MAPE,AMAPE)\n",
    "plt.show()\n",
    "    "
   ]
  },
  {
   "cell_type": "code",
   "execution_count": 9,
   "id": "8bbeb588",
   "metadata": {},
   "outputs": [
    {
     "data": {
      "text/plain": [
       "(3801, 6)"
      ]
     },
     "execution_count": 9,
     "metadata": {},
     "output_type": "execute_result"
    }
   ],
   "source": [
    "len(test_Y)/6\n",
    "testPredict.shape"
   ]
  },
  {
   "cell_type": "code",
   "execution_count": 86,
   "id": "5f1c484b",
   "metadata": {},
   "outputs": [],
   "source": [
    "np.savetxt('train_Y.csv',train_Y,delimiter=',')\n",
    "np.savetxt('test_Y.csv',test_Y,delimiter=',')"
   ]
  },
  {
   "cell_type": "code",
   "execution_count": 62,
   "id": "ec2e3830",
   "metadata": {},
   "outputs": [
    {
     "data": {
      "text/plain": [
       "(19004, 1200)"
      ]
     },
     "execution_count": 62,
     "metadata": {},
     "output_type": "execute_result"
    }
   ],
   "source": []
  },
  {
   "cell_type": "code",
   "execution_count": null,
   "id": "e8fd4d6e",
   "metadata": {},
   "outputs": [],
   "source": []
  }
 ],
 "metadata": {
  "kernelspec": {
   "display_name": "Python 3 (ipykernel)",
   "language": "python",
   "name": "python3"
  },
  "language_info": {
   "codemirror_mode": {
    "name": "ipython",
    "version": 3
   },
   "file_extension": ".py",
   "mimetype": "text/x-python",
   "name": "python",
   "nbconvert_exporter": "python",
   "pygments_lexer": "ipython3",
   "version": "3.8.3"
  }
 },
 "nbformat": 4,
 "nbformat_minor": 5
}
